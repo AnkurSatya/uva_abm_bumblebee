{
 "cells": [
  {
   "cell_type": "code",
   "execution_count": 2,
   "id": "f03b796f",
   "metadata": {},
   "outputs": [],
   "source": [
    "%matplotlib inline\n",
    "from SALib.sample import saltelli\n",
    "from batchrunner import BatchRunnerMP\n",
    "import pandas as pd\n",
    "import numpy as np\n",
    "import matplotlib.pyplot as plt\n",
    "from itertools import combinations\n",
    "from model import BeeEvolutionModel\n",
    "from agents import *"
   ]
  },
  {
   "cell_type": "markdown",
   "id": "0a45065b",
   "metadata": {},
   "source": [
    "## OFAT Sensitivity Analysis(Local Analysis)"
   ]
  },
  {
   "cell_type": "code",
   "execution_count": 9,
   "id": "f9241140",
   "metadata": {},
   "outputs": [
    {
     "name": "stdout",
     "output_type": "stream",
     "text": [
      "BatchRunner MP will use 8 processors.\n"
     ]
    },
    {
     "name": "stderr",
     "output_type": "stream",
     "text": [
      "200it [28:46,  8.63s/it]"
     ]
    },
    {
     "name": "stdout",
     "output_type": "stream",
     "text": [
      "BatchRunner MP will use 8 processors.\n"
     ]
    },
    {
     "name": "stderr",
     "output_type": "stream",
     "text": [
      "\n",
      "200it [28:55,  8.68s/it]"
     ]
    },
    {
     "name": "stdout",
     "output_type": "stream",
     "text": [
      "BatchRunner MP will use 8 processors.\n"
     ]
    },
    {
     "name": "stderr",
     "output_type": "stream",
     "text": [
      "\n",
      "200it [25:21,  7.61s/it]\n"
     ]
    }
   ],
   "source": [
    "problem = {\n",
    "    'num_vars': 3,\n",
    "    'names': ['alpha', 'forager_royal_ratio', 'growth_factor'],\n",
    "    'bounds': [[0.0, 1.0], [0.0, 1.0], [0.0, 1.0]],\n",
    "    'nominal_value': [0.5, 0.5, 0.5]\n",
    "}\n",
    "\n",
    "# Set the repetitions, the amount of steps, and the amount of distinct values per variable\n",
    "replicates = 10 #10\n",
    "# max_steps = 400 #400\n",
    "distinct_samples = 20 #40\n",
    "seed = 20\n",
    "\n",
    "# Set the outputs\n",
    "model_reporters = {\"Total Workers\": lambda m: len([agent for agent in m.schedule_bees_and_flower_patches.agents if isinstance(agent, Worker)]),\n",
    "                   \"Total Queens\": lambda m: len([agent for agent in m.schedule_bees_and_flower_patches.agents if isinstance(agent, Queen)]),\n",
    "                   \"Total Drones\": lambda m: len([agent for agent in m.schedule_bees_and_flower_patches.agents if isinstance(agent, Drone)]),\n",
    "                   \"Total Fertilized Queens\": lambda m: m.get_total_fertilized_queens()}\n",
    "\n",
    "data = {}\n",
    "\n",
    "for i, var in enumerate(problem['names']):\n",
    "    # Get the bounds for this variable and get <distinct_samples> samples within this space (uniform)\n",
    "    samples = np.linspace(*problem['bounds'][i], num=distinct_samples)\n",
    "    \n",
    "    fixed_parameters = {}\n",
    "    for j, var_ in enumerate(problem['names']):\n",
    "        if j != i:\n",
    "            fixed_parameters[var_] = problem['nominal_value'][j]\n",
    "    fixed_parameters[\"seed\"] = seed\n",
    "    \n",
    "    variable_parameters=[{var: sample} for sample in samples]\n",
    "    \n",
    "    batch = BatchRunnerMP(BeeEvolutionModel, \n",
    "                        fixed_parameters=fixed_parameters,\n",
    "                        iterations=replicates,\n",
    "                        variable_parameters=variable_parameters,\n",
    "                        model_reporters=model_reporters,\n",
    "                        display_progress=True)\n",
    "    \n",
    "    batch.run_all()\n",
    "    \n",
    "    data[var] = batch.get_model_vars_dataframe()\n",
    "#     data[var] = batch.get_collector_model\n",
    "    "
   ]
  },
  {
   "cell_type": "code",
   "execution_count": 4,
   "id": "1e04e362",
   "metadata": {},
   "outputs": [
    {
     "data": {
      "text/plain": [
       "{'alpha':       alpha  Run  Total Drones  Total Fertilized Queens  Total Queens  \\\n",
       " 0  0.222222  0.5             1                        0             0   \n",
       " 1  0.666667  0.5             1                        0             0   \n",
       " 2  0.111111  0.5             1                        0             0   \n",
       " 3  0.555556  0.5             1                        0             0   \n",
       " 4  0.444444  0.5             1                        0             0   \n",
       " 5  0.000000  0.5             1                        0             0   \n",
       " 6  0.333333  0.5             1                        0             0   \n",
       " 7  0.777778  0.5             1                        0             0   \n",
       " 8  1.000000  0.5             1                        0             0   \n",
       " 9  0.888889  0.5             1                        0             0   \n",
       " \n",
       "    Total Workers  forager_royal_ratio  growth_factor  seed  daily_steps  \n",
       " 0              0                  0.5            0.5    20            4  \n",
       " 1              0                  0.5            0.5    20            4  \n",
       " 2              0                  0.5            0.5    20            4  \n",
       " 3              0                  0.5            0.5    20            4  \n",
       " 4              0                  0.5            0.5    20            4  \n",
       " 5              0                  0.5            0.5    20            4  \n",
       " 6              0                  0.5            0.5    20            4  \n",
       " 7              0                  0.5            0.5    20            4  \n",
       " 8              0                  0.5            0.5    20            4  \n",
       " 9              0                  0.5            0.5    20            4  ,\n",
       " 'forager_royal_ratio':    forager_royal_ratio  Run  Total Drones  Total Fertilized Queens  \\\n",
       " 0             0.444444  0.5             1                        0   \n",
       " 1             0.111111  0.5             1                        0   \n",
       " 2             0.333333  0.5             1                        0   \n",
       " 3             0.000000  0.5             1                        0   \n",
       " 4             0.222222  0.5             1                        0   \n",
       " 5             0.777778  0.5             1                        0   \n",
       " 6             0.555556  0.5             1                        0   \n",
       " 7             0.666667  0.5             1                        0   \n",
       " 8             0.888889  0.5             1                        0   \n",
       " 9             1.000000  0.5             1                        0   \n",
       " \n",
       "    Total Queens  Total Workers  alpha  growth_factor  seed  daily_steps  \n",
       " 0             0              0    0.5            0.5    20            4  \n",
       " 1             0              0    0.5            0.5    20            4  \n",
       " 2             0              0    0.5            0.5    20            4  \n",
       " 3             0              0    0.5            0.5    20            4  \n",
       " 4             0              0    0.5            0.5    20            4  \n",
       " 5             0              0    0.5            0.5    20            4  \n",
       " 6             0              0    0.5            0.5    20            4  \n",
       " 7             0              0    0.5            0.5    20            4  \n",
       " 8             0              0    0.5            0.5    20            4  \n",
       " 9             0              0    0.5            0.5    20            4  ,\n",
       " 'growth_factor':    growth_factor  Run  Total Drones  Total Fertilized Queens  Total Queens  \\\n",
       " 0       0.000000  0.5             1                        0             0   \n",
       " 1       0.333333  0.5             1                        0             0   \n",
       " 2       0.111111  0.5             1                        0             0   \n",
       " 3       0.555556  0.5             1                        0             0   \n",
       " 4       0.444444  0.5             1                        0             0   \n",
       " 5       0.222222  0.5             1                        0             0   \n",
       " 6       0.666667  0.5             1                        0             0   \n",
       " 7       0.777778  0.5             1                        0             0   \n",
       " 8       0.888889  0.5             1                        0             0   \n",
       " 9       1.000000  0.5             1                        0             0   \n",
       " \n",
       "    Total Workers  alpha  forager_royal_ratio  seed  daily_steps  \n",
       " 0              0    0.5                  0.5    20            4  \n",
       " 1              0    0.5                  0.5    20            4  \n",
       " 2              0    0.5                  0.5    20            4  \n",
       " 3              0    0.5                  0.5    20            4  \n",
       " 4              0    0.5                  0.5    20            4  \n",
       " 5              0    0.5                  0.5    20            4  \n",
       " 6              0    0.5                  0.5    20            4  \n",
       " 7              0    0.5                  0.5    20            4  \n",
       " 8              0    0.5                  0.5    20            4  \n",
       " 9              0    0.5                  0.5    20            4  }"
      ]
     },
     "execution_count": 4,
     "metadata": {},
     "output_type": "execute_result"
    }
   ],
   "source": [
    "data"
   ]
  },
  {
   "cell_type": "code",
   "execution_count": null,
   "id": "7e027938",
   "metadata": {},
   "outputs": [],
   "source": []
  }
 ],
 "metadata": {
  "kernelspec": {
   "display_name": "Python 3 (ipykernel)",
   "language": "python",
   "name": "python3"
  },
  "language_info": {
   "codemirror_mode": {
    "name": "ipython",
    "version": 3
   },
   "file_extension": ".py",
   "mimetype": "text/x-python",
   "name": "python",
   "nbconvert_exporter": "python",
   "pygments_lexer": "ipython3",
   "version": "3.7.10"
  }
 },
 "nbformat": 4,
 "nbformat_minor": 5
}
