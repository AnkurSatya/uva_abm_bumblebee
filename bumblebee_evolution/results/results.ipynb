{
 "cells": [
  {
   "cell_type": "code",
   "execution_count": 1,
   "metadata": {},
   "outputs": [],
   "source": [
    "import matplotlib\n",
    "from matplotlib.colors import LinearSegmentedColormap\n",
    "\n",
    "\n",
    "from collections import OrderedDict\n",
    "from itertools import combinations\n",
    "import matplotlib.pyplot as plt\n",
    "from SALib.analyze import sobol\n",
    "import pandas as pd\n",
    "import numpy as np\n",
    "import pickle\n",
    "import os\n",
    "\n",
    "import seaborn as sns"
   ]
  },
  {
   "cell_type": "code",
   "execution_count": 28,
   "metadata": {},
   "outputs": [],
   "source": [
    "\"\"\"\n",
    "Loading the data from the results file, and printing the average and confidence interval \n",
    "for the total number of bees of each role and for the total number of fertilized queens.\n",
    "\"\"\"\n",
    "\n",
    "with open(\"50_runs_bestOverall_high.pickle\", \"rb\") as f:\n",
    "    best = pickle.load(f)\n",
    "\n"
   ]
  },
  {
   "cell_type": "code",
   "execution_count": 29,
   "metadata": {},
   "outputs": [],
   "source": [
    "final_df = best[0]\n",
    "for i in best:\n",
    "  final_df = pd.concat([final_df, i], ignore_index=True)"
   ]
  },
  {
   "cell_type": "code",
   "execution_count": 30,
   "metadata": {},
   "outputs": [
    {
     "name": "stdout",
     "output_type": "stream",
     "text": [
      "202.36235602812818\n"
     ]
    }
   ],
   "source": [
    "dict = {}\n",
    "print(final_df['Total Fertilized Queens'].std())\n",
    "\n",
    "for key, value in final_df.items() :\n",
    "  mean = final_df[f'{key}'].mean()\n",
    "  confidence_int = final_df[f'{key}'].std()/len(final_df[f'{key}'])**0.5\n",
    "  dict[f'{key}:mean'] = mean\n",
    "  dict[f'{key}:c.i.'] = confidence_int\n"
   ]
  },
  {
   "cell_type": "code",
   "execution_count": 31,
   "metadata": {},
   "outputs": [
    {
     "data": {
      "text/plain": [
       "{'Total Workers:mean': 134.64705882352942,\n",
       " 'Total Workers:c.i.': 8.58808219041612,\n",
       " 'Total Queens:mean': 82.3921568627451,\n",
       " 'Total Queens:c.i.': 5.323943579743514,\n",
       " 'Total Drones:mean': 79.07843137254902,\n",
       " 'Total Drones:c.i.': 5.055832829301912,\n",
       " 'Total Fertilized Queens:mean': 816.7254901960785,\n",
       " 'Total Fertilized Queens:c.i.': 28.336397690317334,\n",
       " 'Workers in Hive 0:mean': 43.09803921568628,\n",
       " 'Workers in Hive 0:c.i.': 5.021698400448525,\n",
       " 'Queens in Hive 0:mean': 27.07843137254902,\n",
       " 'Queens in Hive 0:c.i.': 3.0359729696353996,\n",
       " 'Drones in Hive 0:mean': 25.941176470588236,\n",
       " 'Drones in Hive 0:c.i.': 3.2025004648274913,\n",
       " 'Workers in Hive 1:mean': 54.588235294117645,\n",
       " 'Workers in Hive 1:c.i.': 5.425732188456552,\n",
       " 'Queens in Hive 1:mean': 32.96078431372549,\n",
       " 'Queens in Hive 1:c.i.': 3.4803606737046073,\n",
       " 'Drones in Hive 1:mean': 31.431372549019606,\n",
       " 'Drones in Hive 1:c.i.': 3.128020723811895,\n",
       " 'Workers in Hive 2:mean': 36.96078431372549,\n",
       " 'Workers in Hive 2:c.i.': 5.529029329007972,\n",
       " 'Queens in Hive 2:mean': 22.352941176470587,\n",
       " 'Queens in Hive 2:c.i.': 3.2563450616178486,\n",
       " 'Drones in Hive 2:mean': 21.705882352941178,\n",
       " 'Drones in Hive 2:c.i.': 3.086757816506245}"
      ]
     },
     "execution_count": 31,
     "metadata": {},
     "output_type": "execute_result"
    }
   ],
   "source": [
    "dict"
   ]
  },
  {
   "cell_type": "code",
   "execution_count": null,
   "metadata": {},
   "outputs": [],
   "source": []
  }
 ],
 "metadata": {
  "interpreter": {
   "hash": "34a0898435e12a2e06816ecbfaa70fd1c635e8ac426a86b69a7a40435d13868a"
  },
  "kernelspec": {
   "display_name": "Python 3.9.7 ('base')",
   "language": "python",
   "name": "python3"
  },
  "language_info": {
   "codemirror_mode": {
    "name": "ipython",
    "version": 3
   },
   "file_extension": ".py",
   "mimetype": "text/x-python",
   "name": "python",
   "nbconvert_exporter": "python",
   "pygments_lexer": "ipython3",
   "version": "3.9.7"
  },
  "orig_nbformat": 4
 },
 "nbformat": 4,
 "nbformat_minor": 2
}
