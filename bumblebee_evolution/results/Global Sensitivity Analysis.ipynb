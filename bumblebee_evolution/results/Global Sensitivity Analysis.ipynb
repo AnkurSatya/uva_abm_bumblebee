{
 "cells": [
  {
   "cell_type": "code",
   "execution_count": 51,
   "id": "5c147ea7",
   "metadata": {},
   "outputs": [],
   "source": [
    "from collections import OrderedDict\n",
    "from itertools import combinations\n",
    "import matplotlib.pyplot as plt\n",
    "from SALib.analyze import sobol\n",
    "import pandas as pd\n",
    "import numpy as np\n",
    "import pickle\n",
    "import os"
   ]
  },
  {
   "cell_type": "code",
   "execution_count": 99,
   "id": "f856aa97",
   "metadata": {},
   "outputs": [],
   "source": [
    "with open(\"../variable_parameters.pickle\", \"rb\") as f:\n",
    "    variable_params = pickle.load(f)"
   ]
  },
  {
   "cell_type": "code",
   "execution_count": 100,
   "id": "5b96069b",
   "metadata": {},
   "outputs": [],
   "source": [
    "problem = {\n",
    "    'num_vars': 3,\n",
    "    'names': ['forager_royal_ratio', 'growth_factor', \"resource_variability\"],\n",
    "    'bounds': [[0.0, 1.0], [0.0, 1.0], [0.0, 0.5]]\n",
    "}"
   ]
  },
  {
   "cell_type": "code",
   "execution_count": 101,
   "id": "47e993e0",
   "metadata": {},
   "outputs": [],
   "source": [
    "def plot_index(s, params, i, title=''):\n",
    "    \"\"\"\n",
    "    Creates a plot for Sobol sensitivity analysis that shows the contributions\n",
    "    of each parameter to the global sensitivity.\n",
    "\n",
    "    Args:\n",
    "        s (dict): dictionary {'S#': dict, 'S#_conf': dict} of dicts that hold\n",
    "            the values for a set of parameters\n",
    "        params (list): the parameters taken from s\n",
    "        i (str): string that indicates what order the sensitivity is.\n",
    "        title (str): title for the plot\n",
    "    \"\"\"\n",
    "    if i == '2':\n",
    "        p = len(params)\n",
    "        params = list(combinations(params, 2))\n",
    "        indices = s['S' + i].reshape((p ** 2))\n",
    "        indices = indices[~np.isnan(indices)]\n",
    "        errors = s['S' + i + '_conf'].reshape((p ** 2))\n",
    "        errors = errors[~np.isnan(errors)]\n",
    "    else:\n",
    "        indices = s['S' + i]\n",
    "        errors = s['S' + i + '_conf']\n",
    "        plt.figure()\n",
    "\n",
    "    l = len(indices)\n",
    "\n",
    "    plt.title(title)\n",
    "    plt.ylim([-0.2, len(indices) - 1 + 0.2])\n",
    "    plt.yticks(range(l), params)\n",
    "    plt.errorbar(indices, range(l), xerr=errors, linestyle='None', marker='o')\n",
    "    plt.axvline(0, c='k')"
   ]
  },
  {
   "cell_type": "code",
   "execution_count": 106,
   "id": "12353376",
   "metadata": {},
   "outputs": [
    {
     "name": "stdout",
     "output_type": "stream",
     "text": [
      "                            ST   ST_conf\n",
      "forager_royal_ratio   0.665781  0.071296\n",
      "growth_factor         0.730533  0.069820\n",
      "resource_variability  0.985793  0.077168\n",
      "                            S1   S1_conf\n",
      "forager_royal_ratio  -0.144490  0.072441\n",
      "growth_factor         0.051553  0.090104\n",
      "resource_variability  0.123323  0.085062\n"
     ]
    },
    {
     "data": {
      "image/png": "[encoded data removed]",
      "text/plain": [
       "<Figure size 432x288 with 1 Axes>"
      ]
     },
     "metadata": {
      "needs_background": "light"
     },
     "output_type": "display_data"
    },
    {
     "data": {
      "image/png": "[encoded data removed]",
      "text/plain": [
       "<Figure size 432x288 with 1 Axes>"
      ]
     },
     "metadata": {
      "needs_background": "light"
     },
     "output_type": "display_data"
    }
   ],
   "source": [
    "combined = OrderedDict()\n",
    "for item in variable_params:\n",
    "    key = (item[\"forager_royal_ratio\"], item[\"growth_factor\"], item[\"resource_variability\"])\n",
    "    combined[key] = []    \n",
    "\n",
    "for file in os.listdir():\n",
    "    if \"data_\" in file and \".pickle\" in file:\n",
    "        with open(file, \"rb\") as f:\n",
    "            data = pickle.load(f)\n",
    "        for key, row in data.items():\n",
    "            parameters = (key[0], key[1], key[2])\n",
    "            if parameters in combined:\n",
    "                combined[parameters].append(row)\n",
    "            else:\n",
    "                combined[parameters] = row\n",
    "\n",
    "aggregated = {\"forager_royal_ratio\":[], \"growth_factor\":[], \n",
    "              \"resource_variability\":[], \"Total Fertilized Queens\":[]}\n",
    "\n",
    "for key, rows in combined.items():\n",
    "    for row in rows:\n",
    "        aggregated[\"forager_royal_ratio\"].append(key[0])\n",
    "        aggregated[\"growth_factor\"].append(key[1])\n",
    "        aggregated[\"resource_variability\"].append(key[2])\n",
    "        aggregated[\"Total Fertilized Queens\"].append(row[\"Total Fertilized Queens\"][0])\n",
    "\n",
    "final_dataframe = pd.DataFrame.from_dict(aggregated)\n",
    "\n",
    "Si = sobol.analyze(problem, np.array(final_dataframe['Total Fertilized Queens']), \n",
    "                                     print_to_console=True, calc_second_order=False)\n",
    "\n",
    "plot_index(Si, problem['names'], '1', 'First order sensitivity')\n",
    "plt.show()\n",
    "plot_index(Si, problem['names'], 'T', 'Total order sensitivity')\n",
    "plt.show()"
   ]
  }
 ],
 "metadata": {
  "kernelspec": {
   "display_name": "Python 3",
   "language": "python",
   "name": "python3"
  },
  "language_info": {
   "codemirror_mode": {
    "name": "ipython",
    "version": 3
   },
   "file_extension": ".py",
   "mimetype": "text/x-python",
   "name": "python",
   "nbconvert_exporter": "python",
   "pygments_lexer": "ipython3",
   "version": "3.8.6"
  }
 },
 "nbformat": 4,
 "nbformat_minor": 5
}
