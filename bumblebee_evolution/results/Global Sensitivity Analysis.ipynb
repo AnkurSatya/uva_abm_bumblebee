{
 "cells": [
  {
   "cell_type": "code",
   "execution_count": 197,
   "id": "5c147ea7",
   "metadata": {},
   "outputs": [],
   "source": [
    "import matplotlib\n",
    "from matplotlib.colors import LinearSegmentedColormap\n",
    "\n",
    "\n",
    "from collections import OrderedDict\n",
    "from itertools import combinations\n",
    "import matplotlib.pyplot as plt\n",
    "from SALib.analyze import sobol\n",
    "import pandas as pd\n",
    "import numpy as np\n",
    "import pickle\n",
    "import os\n",
    "\n",
    "import seaborn as sns"
   ]
  },
  {
   "cell_type": "code",
   "execution_count": 2,
   "id": "81839171",
   "metadata": {},
   "outputs": [],
   "source": [
    "with open(\"../variable_parameters.pickle\", \"rb\") as f:\n",
    "    variable_params = pickle.load(f)"
   ]
  },
  {
   "cell_type": "code",
   "execution_count": 3,
   "id": "5b96069b",
   "metadata": {},
   "outputs": [],
   "source": [
    "problem = {\n",
    "    'num_vars': 3,\n",
    "    'names': ['forager_royal_ratio', 'growth_factor', \"resource_variability\"],\n",
    "    'bounds': [[0.0, 1.0], [0.0, 1.0], [0.0, 0.5]]\n",
    "}"
   ]
  },
  {
   "cell_type": "code",
   "execution_count": 4,
   "id": "47e993e0",
   "metadata": {},
   "outputs": [],
   "source": [
    "def plot_index(s, params, i, title=''):\n",
    "    \"\"\"\n",
    "    Creates a plot for Sobol sensitivity analysis that shows the contributions\n",
    "    of each parameter to the global sensitivity.\n",
    "\n",
    "    Args:\n",
    "        s (dict): dictionary {'S#': dict, 'S#_conf': dict} of dicts that hold\n",
    "            the values for a set of parameters\n",
    "        params (list): the parameters taken from s\n",
    "        i (str): string that indicates what order the sensitivity is.\n",
    "        title (str): title for the plot\n",
    "    \"\"\"\n",
    "    if i == '2':\n",
    "        p = len(params)\n",
    "        params = list(combinations(params, 2))\n",
    "        indices = s['S' + i].reshape((p ** 2))\n",
    "        indices = indices[~np.isnan(indices)]\n",
    "        errors = s['S' + i + '_conf'].reshape((p ** 2))\n",
    "        errors = errors[~np.isnan(errors)]\n",
    "    else:\n",
    "        indices = s['S' + i]\n",
    "        errors = s['S' + i + '_conf']\n",
    "        plt.figure()\n",
    "\n",
    "    l = len(indices)\n",
    "\n",
    "    plt.title(title)\n",
    "    plt.ylim([-0.2, len(indices) - 1 + 0.2])\n",
    "    plt.yticks(range(l), params)\n",
    "    plt.errorbar(indices, range(l), xerr=errors, linestyle='None', marker='o')\n",
    "    plt.axvline(0, c='k')"
   ]
  },
  {
   "cell_type": "code",
   "execution_count": 19,
   "id": "12353376",
   "metadata": {
    "scrolled": true
   },
   "outputs": [
    {
     "name": "stdout",
     "output_type": "stream",
     "text": [
      "data_9.pickle\n",
      "data_7.pickle\n",
      "data_1.pickle\n",
      "data_4.pickle\n",
      "data_6.pickle\n",
      "data_0.pickle\n",
      "                            ST   ST_conf\n",
      "forager_royal_ratio   0.394802  0.028373\n",
      "growth_factor         0.577307  0.036705\n",
      "resource_variability  0.620560  0.032665\n",
      "                            S1   S1_conf\n",
      "forager_royal_ratio   0.180829  0.034094\n",
      "growth_factor         0.217564  0.043247\n",
      "resource_variability  0.367686  0.041363\n"
     ]
    },
    {
     "data": {
      "image/png": "[encoded data removed]",
      "text/plain": [
       "<Figure size 432x288 with 1 Axes>"
      ]
     },
     "metadata": {
      "needs_background": "light"
     },
     "output_type": "display_data"
    },
    {
     "data": {
      "image/png": "[encoded data removed]",
      "text/plain": [
       "<Figure size 432x288 with 1 Axes>"
      ]
     },
     "metadata": {
      "needs_background": "light"
     },
     "output_type": "display_data"
    }
   ],
   "source": [
    "combined = OrderedDict()\n",
    "for item in variable_params:\n",
    "    key = (item[\"forager_royal_ratio\"], item[\"growth_factor\"], item[\"resource_variability\"])\n",
    "    combined[key] = []\n",
    "\n",
    "for file in os.listdir():\n",
    "    if \"data_\" in file and \".pickle\" in file:\n",
    "        with open(file, \"rb\") as f:\n",
    "            data = pickle.load(f)\n",
    "        print(file)\n",
    "        for key, row in data.items():\n",
    "            parameters = (key[0], key[1], key[2])\n",
    "            if parameters in combined:\n",
    "                combined[parameters].append(row)\n",
    "            else:\n",
    "                combined[parameters] = row\n",
    "\n",
    "aggregated = {\"forager_royal_ratio\":[], \"growth_factor\":[], \n",
    "              \"resource_variability\":[], \"Total Fertilized Queens\":[]}\n",
    "\n",
    "for key, rows in combined.items():\n",
    "    for row in rows:\n",
    "        aggregated[\"forager_royal_ratio\"].append(key[0])\n",
    "        aggregated[\"growth_factor\"].append(key[1])\n",
    "        aggregated[\"resource_variability\"].append(key[2])\n",
    "        aggregated[\"Total Fertilized Queens\"].append(row[\"Total Fertilized Queens\"][0])\n",
    "\n",
    "final_dataframe = pd.DataFrame.from_dict(aggregated)\n",
    "\n",
    "Si = sobol.analyze(problem, np.array(final_dataframe['Total Fertilized Queens']), \n",
    "                                     print_to_console=True, calc_second_order=False)\n",
    "\n",
    "plot_index(Si, problem['names'], '1', 'First order sensitivity')\n",
    "plt.show()\n",
    "plot_index(Si, problem['names'], 'T', 'Total order sensitivity')\n",
    "plt.show()"
   ]
  },
  {
   "cell_type": "markdown",
   "id": "d39fe7e0",
   "metadata": {},
   "source": [
    "# Results"
   ]
  },
  {
   "cell_type": "code",
   "execution_count": null,
   "id": "7d3b5355",
   "metadata": {},
   "outputs": [],
   "source": [
    "# for each unique param combination : take avg and stdev\n",
    "\n",
    "# divide resource_var in 3 bins - rank strategies to find best in each category, best overall"
   ]
  },
  {
   "cell_type": "code",
   "execution_count": 35,
   "id": "d046f476",
   "metadata": {},
   "outputs": [],
   "source": [
    "avg_std = {}\n",
    "for key, rows in combined.items():\n",
    "    values = [rows[i][\"Total Fertilized Queens\"][0] for i in range(len(rows))]\n",
    "    avg_std[key] = {\"mean\":np.mean(values), \"std\":np.std(values)}"
   ]
  },
  {
   "cell_type": "code",
   "execution_count": 36,
   "id": "43d1f4e9",
   "metadata": {},
   "outputs": [
    {
     "data": {
      "text/plain": [
       "{'mean': 199.33333333333334, 'std': 86.88242374356021}"
      ]
     },
     "execution_count": 36,
     "metadata": {},
     "output_type": "execute_result"
    }
   ],
   "source": [
    "avg_std[(0.0029296875, 0.2509765625, 0.47705078125)]"
   ]
  },
  {
   "cell_type": "code",
   "execution_count": 40,
   "id": "c27ebd20",
   "metadata": {},
   "outputs": [],
   "source": [
    "def find_best_strategy(min_resource_variability, max_resource_variability):\n",
    "    \n",
    "    best_val = -1\n",
    "    best_strategy = None\n",
    "    \n",
    "    for key, item in avg_std.items():\n",
    "        if min_resource_variability <= key[-1] <= max_resource_variability:\n",
    "            if item[\"mean\"] > best_val:\n",
    "                best_strategy = key\n",
    "                best_val = item[\"mean\"]\n",
    "                \n",
    "    return best_strategy, best_val"
   ]
  },
  {
   "cell_type": "code",
   "execution_count": 126,
   "id": "8032f2ce",
   "metadata": {},
   "outputs": [],
   "source": [
    "for key in combined:\n",
    "    if key[2] < 0.1:\n",
    "        if  0.15 < key[1] <= 0.20:\n",
    "            if key[0] <= 0.05:\n",
    "                print(key)"
   ]
  },
  {
   "cell_type": "code",
   "execution_count": 50,
   "id": "3b5dc6f8",
   "metadata": {
    "scrolled": true
   },
   "outputs": [],
   "source": [
    "grouped_by_stragegy = {}\n",
    "for key, item in avg_std.items():\n",
    "    strategy = (key[0], key[1])\n",
    "    if strategy not in grouped_by_stragegy:\n",
    "        grouped_by_stragegy[strategy] = {}\n",
    "    for row in rows:\n",
    "        grouped_by_stragegy[strategy][key[2]] = item[\"mean\"]"
   ]
  },
  {
   "cell_type": "code",
   "execution_count": 138,
   "id": "03c39a8e",
   "metadata": {},
   "outputs": [],
   "source": [
    "bin_count = 10\n",
    "bins = {(i,j):{} for i in range(bin_count) for j in range(bin_count)}\n",
    "\n",
    "for key, stuff in grouped_by_stragegy.items():\n",
    "    bin_location = (int(key[0]*bin_count), int(key[1]*bin_count))\n",
    "    for resouce_var in stuff:\n",
    "        if resouce_var not in bins[bin_location]:\n",
    "            bins[bin_location][resouce_var] = []\n",
    "        bins[bin_location][resouce_var].append(stuff[resouce_var])"
   ]
  },
  {
   "cell_type": "code",
   "execution_count": 139,
   "id": "81ec996b",
   "metadata": {},
   "outputs": [],
   "source": [
    "bin_ranges = [(0.0, 0.1), (0.1, 0.4), (0.4, 0.5)]\n",
    "\n",
    "performance = {r:[] for r in bin_ranges}\n",
    "\n",
    "for b, dictionary in bins.items():\n",
    "    p = {bin_ranges[0]:[], bin_ranges[1]:[], bin_ranges[2]:[]}\n",
    "    for resource_var, performance_list in dictionary.items():\n",
    "        if 0 < resource_var <= bin_ranges[0][1]:\n",
    "            p[bin_ranges[0]] += performance_list\n",
    "        elif bin_ranges[1][0] < resource_var <= bin_ranges[1][1]:\n",
    "            p[bin_ranges[1]] += performance_list\n",
    "        else:\n",
    "            p[bin_ranges[2]] += performance_list\n",
    "    for key in p:\n",
    "        performance[key].append((b, np.mean(p[key])))"
   ]
  },
  {
   "cell_type": "code",
   "execution_count": 141,
   "id": "87084ea8",
   "metadata": {
    "scrolled": false
   },
   "outputs": [
    {
     "name": "stdout",
     "output_type": "stream",
     "text": [
      "Resource Variability Range : (0.0, 0.1)\n",
      "((5, 9), 762.7916666666666)\n",
      "((5, 8), 752.8055555555557)\n",
      "((6, 9), 742.6333333333333)\n",
      "((5, 7), 737.962962962963)\n",
      "((6, 8), 736.7083333333334)\n",
      "\n",
      "Resource Variability Range : (0.1, 0.4)\n",
      "((6, 8), 732.8205128205128)\n",
      "((6, 9), 732.0256410256409)\n",
      "((5, 7), 731.5333333333334)\n",
      "((5, 9), 728.5)\n",
      "((5, 8), 728.375)\n",
      "\n",
      "Resource Variability Range : (0.4, 0.5)\n",
      "((4, 4), 690.6666666666666)\n",
      "((7, 8), 687.2222222222222)\n",
      "((6, 4), 681.6666666666666)\n",
      "((6, 5), 673.8333333333333)\n",
      "((5, 8), 671.8333333333334)\n",
      "\n"
     ]
    }
   ],
   "source": [
    "for k in performance:\n",
    "    print(f\"Resource Variability Range : {k}\")\n",
    "    temp =list(sorted(performance[k], key=lambda x:x[1], reverse=True))[:5]\n",
    "    for item in temp:\n",
    "        print(item)\n",
    "    print()"
   ]
  },
  {
   "cell_type": "code",
   "execution_count": 247,
   "id": "b2949859",
   "metadata": {},
   "outputs": [],
   "source": [
    "def NonLinCdict(steps, hexcol_array):\n",
    "    cdict = {'red': (), 'green': (), 'blue': ()}\n",
    "    for s, hexcol in zip(steps, hexcol_array):\n",
    "        rgb =matplotlib.colors.hex2color(hexcol)\n",
    "        cdict['red'] = cdict['red'] + ((s, rgb[0], rgb[0]),)\n",
    "        cdict['green'] = cdict['green'] + ((s, rgb[1], rgb[1]),)\n",
    "        cdict['blue'] = cdict['blue'] + ((s, rgb[2], rgb[2]),)\n",
    "    return cdict\n",
    "\n",
    "hc = ['#160c06', \"#d09005\", '#fbd604']\n",
    "th = [0, 0.9, 1]\n",
    "\n",
    "cdict = NonLinCdict(th, hc)\n",
    "cm = LinearSegmentedColormap('test', cdict)"
   ]
  },
  {
   "cell_type": "code",
   "execution_count": 251,
   "id": "a67035c2",
   "metadata": {
    "scrolled": false
   },
   "outputs": [
    {
     "name": "stdout",
     "output_type": "stream",
     "text": [
      "Resource Variability Range : (0.0, 0.1)\n"
     ]
    },
    {
     "data": {
      "image/png": "[encoded data removed]",
      "text/plain": [
       "<Figure size 432x288 with 2 Axes>"
      ]
     },
     "metadata": {
      "needs_background": "light"
     },
     "output_type": "display_data"
    },
    {
     "name": "stdout",
     "output_type": "stream",
     "text": [
      "Resource Variability Range : (0.1, 0.4)\n"
     ]
    },
    {
     "data": {
      "image/png": "[encoded data removed]",
      "text/plain": [
       "<Figure size 432x288 with 2 Axes>"
      ]
     },
     "metadata": {
      "needs_background": "light"
     },
     "output_type": "display_data"
    },
    {
     "name": "stdout",
     "output_type": "stream",
     "text": [
      "Resource Variability Range : (0.4, 0.5)\n"
     ]
    },
    {
     "data": {
      "image/png": "[encoded data removed]",
      "text/plain": [
       "<Figure size 432x288 with 2 Axes>"
      ]
     },
     "metadata": {
      "needs_background": "light"
     },
     "output_type": "display_data"
    }
   ],
   "source": [
    "for key, stuff in performance.items():\n",
    "    print(f\"Resource Variability Range : {key}\")\n",
    "    rows = []\n",
    "    for j in range(10):\n",
    "        rows.append([x[1] for x in stuff[j*10:(j+1)*10]])        \n",
    "    ax = sns.heatmap(np.array(np.vstack(rows)), cmap=cm)\n",
    "    ax.set_xlabel(\"Growth Factor\")\n",
    "    ax.set_ylabel(\"Forager-Royal Ratio\")\n",
    "    plt.savefig(f'{key}.png')\n",
    "    plt.show()"
   ]
  }
 ],
 "metadata": {
  "kernelspec": {
   "display_name": "Python 3",
   "language": "python",
   "name": "python3"
  },
  "language_info": {
   "codemirror_mode": {
    "name": "ipython",
    "version": 3
   },
   "file_extension": ".py",
   "mimetype": "text/x-python",
   "name": "python",
   "nbconvert_exporter": "python",
   "pygments_lexer": "ipython3",
   "version": "3.8.6"
  }
 },
 "nbformat": 4,
 "nbformat_minor": 5
}
