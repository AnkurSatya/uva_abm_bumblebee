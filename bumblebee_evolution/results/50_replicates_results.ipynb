{
 "cells": [
  {
   "cell_type": "code",
   "execution_count": 45,
   "metadata": {},
   "outputs": [],
   "source": [
    "from scipy.stats import norm\n",
    "import pandas as pd\n",
    "import numpy as np\n",
    "import pickle"
   ]
  },
  {
   "cell_type": "code",
   "execution_count": 25,
   "metadata": {},
   "outputs": [],
   "source": [
    "\"\"\"\n",
    "Loading the data from the results file, and printing the average and confidence interval \n",
    "for the total number of bees of each role and for the total number of fertilized queens.\n",
    "\"\"\"\n",
    "\n",
    "categories = ('low', 'middle', 'high')\n",
    "strategies = ('best', 'bestOverall')\n",
    "data = {}\n",
    "\n",
    "for categ in categories:\n",
    "    data[categ] = {}\n",
    "    for strategy in strategies:\n",
    "        with open(f'50_runs_{strategy}_{categ}.pickle', 'rb') as f:\n",
    "            data[categ][strategy] = pickle.load(f)\n",
    "\n",
    "        data[categ][strategy] = pd.concat([row for row in data[categ][strategy]])"
   ]
  },
  {
   "cell_type": "code",
   "execution_count": 46,
   "metadata": {},
   "outputs": [],
   "source": [
    "# calculate mean data\n",
    "\n",
    "variables = ('Total Workers', 'Total Queens', 'Total Drones', 'Total Fertilized Queens')\n",
    "\n",
    "summary_data = {}\n",
    "\n",
    "for categ in categories:\n",
    "    summary_data[categ] = {}\n",
    "    for strategy in strategies:\n",
    "        summary_data[categ][strategy] = {}\n",
    "        for variable in variables:\n",
    "            summary_data[categ][strategy][variable] = {}\n",
    "\n",
    "            values = data[categ][strategy][variable]\n",
    "            summary_data[categ][strategy][variable]['mean'] = values.mean()\n",
    "            summary_data[categ][strategy][variable]['conf_int'] = norm.ppf(q=0.975) * values.std() / np.sqrt(len(values))"
   ]
  },
  {
   "cell_type": "code",
   "execution_count": 47,
   "metadata": {},
   "outputs": [
    {
     "data": {
      "text/plain": [
       "{'Total Workers': {'mean': 133.8, 'conf_int': 17.088680338810253},\n",
       " 'Total Queens': {'mean': 81.7, 'conf_int': 10.55521186076207},\n",
       " 'Total Drones': {'mean': 78.2, 'conf_int': 9.95569733084587},\n",
       " 'Total Fertilized Queens': {'mean': 820.7, 'conf_int': 56.100300445973346}}"
      ]
     },
     "execution_count": 47,
     "metadata": {},
     "output_type": "execute_result"
    }
   ],
   "source": [
    "summary_data['high']['bestOverall']"
   ]
  }
 ],
 "metadata": {
  "interpreter": {
   "hash": "34a0898435e12a2e06816ecbfaa70fd1c635e8ac426a86b69a7a40435d13868a"
  },
  "kernelspec": {
   "display_name": "Python 3.9.7 ('base')",
   "language": "python",
   "name": "python3"
  },
  "language_info": {
   "codemirror_mode": {
    "name": "ipython",
    "version": 3
   },
   "file_extension": ".py",
   "mimetype": "text/x-python",
   "name": "python",
   "nbconvert_exporter": "python",
   "pygments_lexer": "ipython3",
   "version": "3.8.8"
  },
  "orig_nbformat": 4
 },
 "nbformat": 4,
 "nbformat_minor": 2
}
